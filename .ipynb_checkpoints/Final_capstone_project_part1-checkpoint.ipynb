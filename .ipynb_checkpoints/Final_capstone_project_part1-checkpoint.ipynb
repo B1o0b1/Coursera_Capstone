{
 "cells": [
  {
   "cell_type": "markdown",
   "metadata": {},
   "source": [
    "## Exploring New york city neighborhoods  to open an haitian restaurant"
   ]
  },
  {
   "cell_type": "markdown",
   "metadata": {},
   "source": [
    "Main objectives of this project  to define a business problem, look for data in the web and, use Foursquare location data to compare different neighborhoods of New york city to figure out which neighborhood is suitable for starting a new haitian restaurant. "
   ]
  },
  {
   "cell_type": "markdown",
   "metadata": {},
   "source": [
    "---"
   ]
  },
  {
   "cell_type": "markdown",
   "metadata": {},
   "source": [
    "### 1. Introduction & description of the Business Problem"
   ]
  },
  {
   "cell_type": "markdown",
   "metadata": {},
   "source": [
    "#### Problem Statement:Prospects of opening an haitian restaurant in NYC, USA."
   ]
  },
  {
   "cell_type": "markdown",
   "metadata": {},
   "source": [
    "New York City, often called simply New York and abbreviated as NYC, is the most populous city in the United States. New York City has been described as the cultural, financial, and media capital of the world, significantly influencing commerce, entertainment, research, technology, education, politics, tourism, art, fashion, and sports. Home to the headquarters of the United Nations, New York is an important center for international diplomacy.\n",
    "\n",
    "Situated on one of the world's largest natural harbors, New York City is composed of five boroughs, each of which is a county of the State of New York. The five boroughs—Brooklyn, Queens, Manhattan, the Bronx, and Staten Island. The city and its metropolitan area constitute the premier gateway for legal immigration to the United States. As many as 800 languages are spoken in New York, making it the most linguistically diverse city in the world.\n",
    "\n",
    "NYC has the largest haitian populations in the United States after Florida, as well as the oldest established Haitian cummunities of the country. The conservative estimate of the documented haitian population in the new York City Metropolitan Area, as recorded by INS is approcimatively 156,000.\n",
    "\n",
    "In this project we will go through step by step process to make a decision whether it is a good idea to open an Haitian restaurant. We analyze the neighborhoods in NYC to identify the most profitable area since the success of the restaurant depends on the people and ambience. Since we already know that NYC shelter a great number of Haitian it is a good idea to open a restaurant here, but we just need to make sure whether it is a profitable idea or not. If so, where we can place it, so it yields more profit to the owner."
   ]
  },
  {
   "cell_type": "markdown",
   "metadata": {},
   "source": [
    "#### Target Audience"
   ]
  },
  {
   "cell_type": "markdown",
   "metadata": {},
   "source": [
    "Who will be more interested in this project? What type of clients or a group of people would be benefitted?"
   ]
  },
  {
   "cell_type": "markdown",
   "metadata": {},
   "source": [
    "1. Business personnel who wants to invest or open an Haitian restaurant in NYC. This analysis will be a comprehensive guide to start or expand restaurants targeting the Haitian crowd.\n",
    "2. Investor who wants to invest in the creation of an haitian restaurant. This analysis will give an idea, how beneficial it is to open a restaurant and what are the strength and weakness of this business.\n",
    "3. Haitian crowd who wants to find neighborhoods with lots of option for Haitian restaurants.\n"
   ]
  },
  {
   "cell_type": "markdown",
   "metadata": {},
   "source": [
    "### 2. Data acquisition and description"
   ]
  },
  {
   "cell_type": "markdown",
   "metadata": {},
   "source": [
    "* New York City data containing the neighborhoods and boroughs, latitudes, and longitudes will be obtained from the data source: https://cocl.us/new_york_dataset\n",
    "* To get location and other information about various venues in New york city I’m using Foursquare’s explore API. Using the Foursquare’s explore API (which gives venues recommendations), I’m fetching details about the venues up present in NYC and collected their names, categories and locations (latitude and longitude)."
   ]
  },
  {
   "cell_type": "code",
   "execution_count": null,
   "metadata": {},
   "outputs": [],
   "source": []
  }
 ],
 "metadata": {
  "kernelspec": {
   "display_name": "Python 3",
   "language": "python",
   "name": "python3"
  },
  "language_info": {
   "codemirror_mode": {
    "name": "ipython",
    "version": 3
   },
   "file_extension": ".py",
   "mimetype": "text/x-python",
   "name": "python",
   "nbconvert_exporter": "python",
   "pygments_lexer": "ipython3",
   "version": "3.7.4"
  }
 },
 "nbformat": 4,
 "nbformat_minor": 2
}
